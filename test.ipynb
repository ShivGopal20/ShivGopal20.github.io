{
 "cells": [
  {
   "cell_type": "markdown",
   "metadata": {},
   "source": [
    "# 1. Motivation\n",
    "\n",
    "## What is your dataset?\n",
    "## Why did you choose this/these particular dataset(s)?\n",
    "## What was your goal for the end user's experience?"
   ]
  },
  {
   "cell_type": "markdown",
   "metadata": {},
   "source": [
    "# 2. Basic stats\n",
    "\n",
    "## Write about your choices in data cleaning and preprocessing\n",
    "## Write a short section that discusses the dataset stats, containing key points/plots from your exploratory data analysis."
   ]
  },
  {
   "cell_type": "code",
   "execution_count": 4,
   "metadata": {},
   "outputs": [
    {
     "name": "stdout",
     "output_type": "stream",
     "text": [
      "Column names in the dataset:\n",
      "Index(['incident_datetime', 'incident_date', 'incident_time', 'incident_year',\n",
      "       'incident_day_of_week', 'report_datetime', 'row_id', 'incident_id',\n",
      "       'incident_number', 'cad_number', 'report_type_code',\n",
      "       'report_type_description', 'filed_online', 'incident_code',\n",
      "       'incident_category', 'incident_subcategory', 'incident_description',\n",
      "       'resolution', 'intersection', 'cnn', 'police_district',\n",
      "       'analysis_neighborhood', 'supervisor_district',\n",
      "       'supervisor_district_2012', 'latitude', 'longitude', 'point',\n",
      "       ':@computed_region_jwn9_ihcz', ':@computed_region_jg9y_a9du',\n",
      "       ':@computed_region_h4ep_8xdi', ':@computed_region_n4xg_c4py',\n",
      "       ':@computed_region_nqbw_i6c3', ':@computed_region_viu7_rrfi',\n",
      "       ':@computed_region_26cr_cadq', ':@computed_region_qgnn_b9vv'],\n",
      "      dtype='object')\n"
     ]
    }
   ],
   "source": [
    "import pandas as pd\n",
    "import io\n",
    "import urllib.request\n",
    "\n",
    "# URL of the CSV file\n",
    "url = 'https://data.sfgov.org/resource/wg3w-h783.csv?$limit=846175'\n",
    "\n",
    "# Use urllib to load the CSV data from the URL\n",
    "with urllib.request.urlopen(url) as response:\n",
    "    csv_data = response.read().decode('utf-8')\n",
    "\n",
    "# Convert the string data to a pandas DataFrame\n",
    "data = pd.read_csv(io.StringIO(csv_data))\n",
    "\n",
    "# Now 'data' holds the DataFrame object of the CSV file.\n",
    "\n",
    "# Print column names to ensure the correct reference\n",
    "print(\"Column names in the dataset:\")\n",
    "print(data.columns) \n"
   ]
  },
  {
   "cell_type": "code",
   "execution_count": 6,
   "metadata": {},
   "outputs": [
    {
     "data": {
      "text/plain": [
       "array(['Mission', 'Central', 'Park', 'Bayview', 'Richmond', 'Southern',\n",
       "       'Northern', 'Taraval', 'Tenderloin', 'Ingleside'], dtype=object)"
      ]
     },
     "execution_count": 6,
     "metadata": {},
     "output_type": "execute_result"
    }
   ],
   "source": [
    "# Assuming 'data' is our DataFrame\n",
    "filtered_data = data.query(\"`police_district` != 'Out of SF'\")\n",
    "\n",
    "PD_Counts = filtered_data['police_district'].unique()\n",
    "\n",
    "PD_Counts"
   ]
  },
  {
   "cell_type": "code",
   "execution_count": 7,
   "metadata": {},
   "outputs": [
    {
     "data": {
      "text/plain": [
       "incident_category\n",
       "Larceny Theft                                   252192\n",
       "Malicious Mischief                               57077\n",
       "Other Miscellaneous                              56999\n",
       "Assault                                          51524\n",
       "Non-Criminal                                     48381\n",
       "Burglary                                         46841\n",
       "Motor Vehicle Theft                              45281\n",
       "Fraud                                            26229\n",
       "Recovered Vehicle                                24141\n",
       "Warrant                                          23924\n",
       "Lost Property                                    21628\n",
       "Drug Offense                                     21063\n",
       "Robbery                                          18810\n",
       "Missing Person                                   17652\n",
       "Suspicious Occ                                   17089\n",
       "Disorderly Conduct                               14393\n",
       "Offences Against The Family And Children         11023\n",
       "Miscellaneous Investigation                       9378\n",
       "Traffic Violation Arrest                          7861\n",
       "Other                                             7093\n",
       "Other Offenses                                    6118\n",
       "Weapons Offense                                   5849\n",
       "Weapons Carrying Etc                              4438\n",
       "Stolen Property                                   3983\n",
       "Case Closure                                      2835\n",
       "Forgery And Counterfeiting                        2811\n",
       "Arson                                             2442\n",
       "Traffic Collision                                 2009\n",
       "Vandalism                                         1927\n",
       "Fire Report                                       1257\n",
       "Embezzlement                                      1030\n",
       "Civil Sidewalks                                    889\n",
       "Sex Offense                                        874\n",
       "Prostitution                                       854\n",
       "Courtesy Report                                    746\n",
       "Vehicle Impounded                                  600\n",
       "Suicide                                            374\n",
       "Vehicle Misplaced                                  357\n",
       "Drug Violation                                     268\n",
       "Rape                                               202\n",
       "Homicide                                           143\n",
       "Liquor Laws                                        116\n",
       "Suspicious                                         114\n",
       "Human Trafficking (A), Commercial Sex Acts         108\n",
       "Motor Vehicle Theft?                                84\n",
       "Gambling                                            38\n",
       "Human Trafficking, Commercial Sex Acts              23\n",
       "Weapons Offence                                     22\n",
       "Human Trafficking (B), Involuntary Servitude         1\n",
       "Name: count, dtype: int64"
      ]
     },
     "execution_count": 7,
     "metadata": {},
     "output_type": "execute_result"
    }
   ],
   "source": [
    "CrimeCategories_Counts"
   ]
  },
  {
   "cell_type": "markdown",
   "metadata": {},
   "source": [
    "# 3. Data Analysis\n",
    "\n",
    "## Describe your data analysis and explain what you've learned about the dataset.\n",
    "## If relevant, talk about your machine-learning."
   ]
  },
  {
   "cell_type": "markdown",
   "metadata": {},
   "source": [
    "# 4. Genre\n",
    "\n",
    "## Which genre of data story did you use?\n",
    "## Which tools did you use from each of the 3 categories of Visual Narrative (Figure 7 in Segal and Heer). Why?\n",
    "## Which tools did you use from each of the 3 categories of Narrative Structure (Figure 7 in Segal and Heer). Why?"
   ]
  },
  {
   "cell_type": "markdown",
   "metadata": {},
   "source": [
    "# 5. Visualizations\n",
    "\n",
    "## Explain the visualizations you've chosen.\n",
    "## Why are they right for the story you want to tell?"
   ]
  },
  {
   "cell_type": "markdown",
   "metadata": {},
   "source": [
    "# 6. Discussion \n",
    "\n",
    "## Think critically about your creation\n",
    "## What went well?,What is still missing? What could be improved?, Why?"
   ]
  },
  {
   "cell_type": "markdown",
   "metadata": {},
   "source": [
    "# 7. Contributions. Who did what?\n"
   ]
  }
 ],
 "metadata": {
  "kernelspec": {
   "display_name": "base",
   "language": "python",
   "name": "python3"
  },
  "language_info": {
   "codemirror_mode": {
    "name": "ipython",
    "version": 3
   },
   "file_extension": ".py",
   "mimetype": "text/x-python",
   "name": "python",
   "nbconvert_exporter": "python",
   "pygments_lexer": "ipython3",
   "version": "3.11.5"
  }
 },
 "nbformat": 4,
 "nbformat_minor": 2
}
